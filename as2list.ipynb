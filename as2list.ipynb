{
 "cells": [
  {
   "cell_type": "markdown",
   "id": "4c485615",
   "metadata": {},
   "source": [
    "# WPP ---->\n",
    " # step 1 : Create a list L1 = [1,2,3,4,5]\n",
    "   # step 2 : use L1 to make a list of tuples like below:\n",
    "      [(1, 1), (2, 4), (3, 9), (4, 16), (5, 25)]\n"
   ]
  },
  {
   "cell_type": "code",
   "execution_count": 5,
   "id": "f4e7b0b5",
   "metadata": {},
   "outputs": [
    {
     "name": "stdout",
     "output_type": "stream",
     "text": [
      "[(1, 1), (2, 4), (3, 9), (4, 16), (5, 25)]\n"
     ]
    }
   ],
   "source": [
    "l1 = [1,2,3,4,5]\n",
    "l2 = [(i,(i**2)) for i in l1]\n",
    "print(l2)"
   ]
  },
  {
   "cell_type": "code",
   "execution_count": null,
   "id": "3ff32ee7",
   "metadata": {},
   "outputs": [],
   "source": []
  }
 ],
 "metadata": {
  "kernelspec": {
   "display_name": "Python 3 (ipykernel)",
   "language": "python",
   "name": "python3"
  },
  "language_info": {
   "codemirror_mode": {
    "name": "ipython",
    "version": 3
   },
   "file_extension": ".py",
   "mimetype": "text/x-python",
   "name": "python",
   "nbconvert_exporter": "python",
   "pygments_lexer": "ipython3",
   "version": "3.10.0"
  }
 },
 "nbformat": 4,
 "nbformat_minor": 5
}
